{
 "cells": [
  {
   "cell_type": "markdown",
   "metadata": {},
   "source": [
    "# Animator"
   ]
  },
  {
   "cell_type": "code",
   "execution_count": 13,
   "metadata": {},
   "outputs": [
    {
     "name": "stdout",
     "output_type": "stream",
     "text": [
      "The autoreload extension is already loaded. To reload it, use:\n",
      "  %reload_ext autoreload\n"
     ]
    },
    {
     "data": {
      "text/plain": [
       "[None, None, None, None, None, None, None, None, None]"
      ]
     },
     "execution_count": 13,
     "metadata": {},
     "output_type": "execute_result"
    }
   ],
   "source": [
    "%load_ext autoreload\n",
    "%autoreload 2\n",
    "\n",
    "#$ ipcluster start -n 6\n",
    "import ipyparallel as ipp\n",
    "\n",
    "sites = ['1512', '1610', '1613', '1617',\n",
    "         '1629', '1614', '1622', '1630',\n",
    "         '1607', '1612', '1615', '1627', '1631']\n",
    "dview = ipp.Client()[:]\n",
    "\n",
    "@dview.parallel(block=True)\n",
    "def generateAnimation(sites):\n",
    "    import DataParser\n",
    "    for site in sites:\n",
    "        DataParser.animateGraph('data/learning/{0}.csv'.format(site), withPrediction=False)\n",
    "\n",
    "generateAnimation(sites)    "
   ]
  },
  {
   "cell_type": "code",
   "execution_count": null,
   "metadata": {},
   "outputs": [],
   "source": []
  }
 ],
 "metadata": {
  "kernelspec": {
   "display_name": "Python 3",
   "language": "python",
   "name": "python3"
  },
  "language_info": {
   "codemirror_mode": {
    "name": "ipython",
    "version": 3
   },
   "file_extension": ".py",
   "mimetype": "text/x-python",
   "name": "python",
   "nbconvert_exporter": "python",
   "pygments_lexer": "ipython3",
   "version": "3.6.6"
  }
 },
 "nbformat": 4,
 "nbformat_minor": 2
}
