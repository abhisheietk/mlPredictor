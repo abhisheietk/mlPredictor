{
 "cells": [
  {
   "cell_type": "code",
   "execution_count": 2,
   "metadata": {},
   "outputs": [],
   "source": [
    "#%matplotlib inline\n",
    "import pandas as pd\n",
    "import numpy as np\n",
    "\n",
    "\n",
    "\n",
    "sites = [#{'site':'BARC',                       'lat':19.0436,  'lng':72.9197, 'srNo':},\n",
    "         {'site':'Aggarwal College Ballabgarh', 'lat':28.3317,  'lng':77.3344, 'srNo': 1613},\n",
    "         {'site':'Gauhati University',          'lat':26.1551,  'lng':91.6627, 'srNo': 1629},\n",
    "         {'site':'GZRSC, Aizawl',               'lat':23.7398,  'lng':92.7223, 'srNo': 1617},\n",
    "         #{'site':'IIG Vizag',                  'lat':17.68,    'lng':83.32,   'srNo':},\n",
    "         {'site':'IOP Bhubaneshwar',            'lat':20.3091,  'lng':85.8309, 'srNo': 1631},\n",
    "         {'site':'Kashmir University',          'lat':34.12796, 'lng':74.8365, 'srNo': 1622},\n",
    "         {'site':'Manipur University',          'lat':24.7507,  'lng':93.9291, 'srNo': 1612},\n",
    "         {'site':'Mizoram University',          'lat':23.735,   'lng':92.6671, 'srNo': 1614},\n",
    "         {'site':'Nagaland University',         'lat':25.7247,  'lng':94.0955, 'srNo': 1615},\n",
    "         {'site':'NEHU Shillong',               'lat':25.6089,  'lng':91.8999, 'srNo': 1630},\n",
    "         {'site':'NIT Rourkela',                'lat':22.2533,  'lng':84.9011, 'srNo': 1601},\n",
    "         {'site':'SGRC Shillong',               'lat':25.61,    'lng':91.896,  'srNo': 1512},\n",
    "         {'site':'Silchar Assam',               'lat':24.6919,  'lng':92.7503, 'srNo': 1607},\n",
    "         {'site':'SINP Kolkata',                'lat':22.5997,  'lng':88.42,   'srNo': 1627},\n",
    "         {'site':'IIT Roorkee',                 'lat':29.8649,  'lng':77.8966, 'srNo': 1610},\n",
    "        ]\n",
    "\n",
    "def getSiteData(start, stop, siteList=[1617]):\n",
    "    dfList = []\n",
    "    for site in sites: \n",
    "        if site['srNo'] in siteList:\n",
    "            df = pd.read_csv('data/sites/{0}.csv'.format(site['srNo']))\n",
    "            df1 = df.loc[(df['datetime'] >= start) &\n",
    "                                 (df['datetime'] <= stop)]\n",
    "            if len(df1):\n",
    "                df2 = df1.rename(index=str, columns={'counts_norm': 'counts_norm_{0}'.format(site['srNo']),\n",
    "                                                     'bgCounts_norm': 'bgCounts_norm_{0}'.format(site['srNo'])})\n",
    "                df2['datetime'] = pd.to_datetime(df2['datetime'], unit='s')\n",
    "                dfList.append(df2)\n",
    "    if len(dfList):\n",
    "        return pd.concat(dfList)\n",
    "    else:\n",
    "        return pd.DataFrame({'datetime' : []}) #pd.DataFrame.empty()"
   ]
  },
  {
   "cell_type": "code",
   "execution_count": 3,
   "metadata": {},
   "outputs": [],
   "source": [
    "#df = pd.read_csv('sites/filtered/{0}.csv'.format(1610))\n",
    "#df['datetime'] = pd.to_datetime(df['datetime'], unit='s')\n",
    "#print(df)"
   ]
  }
 ],
 "metadata": {
  "kernelspec": {
   "display_name": "Python 3",
   "language": "python",
   "name": "python3"
  },
  "language_info": {
   "codemirror_mode": {
    "name": "ipython",
    "version": 3
   },
   "file_extension": ".py",
   "mimetype": "text/x-python",
   "name": "python",
   "nbconvert_exporter": "python",
   "pygments_lexer": "ipython3",
   "version": "3.5.2"
  }
 },
 "nbformat": 4,
 "nbformat_minor": 2
}
