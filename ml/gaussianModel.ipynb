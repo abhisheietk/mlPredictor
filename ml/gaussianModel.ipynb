{
 "cells": [
  {
   "cell_type": "code",
   "execution_count": 31,
   "metadata": {},
   "outputs": [],
   "source": [
    "#%matplotlib inline\n",
    "import pandas as pd\n",
    "import numpy as np\n",
    "from datetime import datetime, timedelta\n",
    "import matplotlib\n",
    "\n",
    "matplotlib.rcParams['figure.figsize'] = [20.0, 12.0]\n",
    "\n",
    "def gaussian(x, mu, sig, magnitude):\n",
    "    return np.exp(-np.power(x - mu, 2.) / (2 * np.power(sig, 2.))) * magnitude\n",
    "\n",
    "def gaussiany(y, mu, sig, magnitude):\n",
    "    return np.sqrt(-(np.log(y/magnitude) * (2 * np.power(sig, 2.))))\n",
    "\n",
    "def getEventFrame(dateTime, magnitude, label='Magnitude'):    \n",
    "    mu = dateTime\n",
    "    sig = 43200 / 24\n",
    "    span = gaussiany(0.01, mu, sig, magnitude)\n",
    "    x = np.linspace(mu - span, mu + span, 720 / 24)\n",
    "    t = [datetime.fromtimestamp(int(i)) for i in x]\n",
    "    y = gaussian(x, mu, sig, magnitude)\n",
    "    d = {'datetime': t, label: y}\n",
    "    return pd.DataFrame(data=d)\n",
    "\n",
    "#Magnitude = 5.5\n",
    "#dateTime = 1.47192e+09\n",
    "#latlong = \"11:32\"\n",
    "\n",
    "#df2 = getEventFrame(dateTime, Magnitude, latlong)\n",
    "#df2.plot(x='datetime')\n",
    "\n",
    "#Magnitude = 4.0\n",
    "#dateTime = 1.47191e+09\n",
    "#latlong = \"10:32\"\n",
    "\n",
    "#df3 = getEventFrame(dateTime, Magnitude, latlong)\n",
    "#df3.plot(x='datetime')\n",
    "\n",
    "#df4 = pd.concat([df2, df3])\n",
    "\n",
    "#df5 = df4.sort_values('datetime', ascending=True)\n",
    "#df6 = df5.interpolate()\n",
    "\n",
    "#df6.plot(x='datetime')"
   ]
  },
  {
   "cell_type": "code",
   "execution_count": null,
   "metadata": {},
   "outputs": [],
   "source": []
  }
 ],
 "metadata": {
  "kernelspec": {
   "display_name": "Python 3",
   "language": "python",
   "name": "python3"
  },
  "language_info": {
   "codemirror_mode": {
    "name": "ipython",
    "version": 3
   },
   "file_extension": ".py",
   "mimetype": "text/x-python",
   "name": "python",
   "nbconvert_exporter": "python",
   "pygments_lexer": "ipython3",
   "version": "3.5.2"
  }
 },
 "nbformat": 4,
 "nbformat_minor": 2
}
