{
 "cells": [
  {
   "cell_type": "code",
   "execution_count": 1,
   "metadata": {},
   "outputs": [],
   "source": [
    "import tensorflow as tf\n",
    "import numpy as np\n",
    "np.set_printoptions(threshold=np.inf)\n",
    "import matplotlib.pyplot as plt\n",
    "%matplotlib inline\n",
    "from tensorflow import estimator\n",
    "import pandas as pd"
   ]
  },
  {
   "cell_type": "code",
   "execution_count": 2,
   "metadata": {},
   "outputs": [],
   "source": [
    "def normalize(df):    \n",
    "    return (df - df.min()) / (df.max() - df.min())\n",
    "\n",
    "def denormalize(df,norm_data):    \n",
    "    return (norm_data * (df.max() - df.min())) + df.min()"
   ]
  },
  {
   "cell_type": "code",
   "execution_count": 3,
   "metadata": {},
   "outputs": [],
   "source": [
    "tf.reset_default_graph()\n",
    "df = pd.read_csv('./data/finalData/1512.csv')\n",
    "df['out']=df['out']*1\n",
    "df = df.dropna(inplace=False)\n",
    "\n",
    "\n",
    "msk = np.random.rand(len(df)) < 0.6\n",
    "df_train = df[msk]    \n",
    "df_test = df[~msk]\n",
    "\n",
    "X_train = normalize(df_train.drop(['out'],axis=1)).values\n",
    "y_train = df_train['out'].values\n",
    "\n",
    "X_test = normalize(df_test.drop(['out'],axis=1)).values\n",
    "y_test = df_test['out'].values\n",
    "\n",
    "feat_cols=[tf.feature_column.numeric_column('x', shape=[961])]"
   ]
  },
  {
   "cell_type": "code",
   "execution_count": 4,
   "metadata": {},
   "outputs": [
    {
     "name": "stdout",
     "output_type": "stream",
     "text": [
      "INFO:tensorflow:Using default config.\n",
      "INFO:tensorflow:Using config: {'_evaluation_master': '', '_save_checkpoints_secs': 600, '_master': '', '_task_id': 0, '_tf_random_seed': None, '_train_distribute': None, '_keep_checkpoint_every_n_hours': 10000, '_task_type': 'worker', '_cluster_spec': <tensorflow.python.training.server_lib.ClusterSpec object at 0x7f85de756550>, '_num_ps_replicas': 0, '_save_summary_steps': 100, '_model_dir': './model', '_session_config': None, '_log_step_count_steps': 100, '_global_id_in_cluster': 0, '_keep_checkpoint_max': 5, '_save_checkpoints_steps': None, '_service': None, '_num_worker_replicas': 1, '_is_chief': True}\n"
     ]
    }
   ],
   "source": [
    "deep_model=tf.estimator.DNNClassifier(feature_columns=feat_cols, \n",
    "                                      n_classes=2,\n",
    "                                   hidden_units=[1000,1000,1000,1000,1000,1000], \n",
    "                                   activation_fn=tf.nn.relu,\n",
    "                                     optimizer=tf.train.GradientDescentOptimizer(0.0001),\n",
    "                                     model_dir='./model')"
   ]
  },
  {
   "cell_type": "code",
   "execution_count": 5,
   "metadata": {},
   "outputs": [],
   "source": [
    "input_fn = estimator.inputs.numpy_input_fn(x={'x':X_train}, \n",
    "                                           y=y_train,\n",
    "                                           shuffle= True,\n",
    "                                           num_epochs=5000,\n",
    "                                           batch_size=100)"
   ]
  },
  {
   "cell_type": "code",
   "execution_count": 7,
   "metadata": {},
   "outputs": [],
   "source": [
    "train = deep_model.train(input_fn=input_fn, steps=5000)"
   ]
  },
  {
   "cell_type": "code",
   "execution_count": null,
   "metadata": {},
   "outputs": [],
   "source": [
    "input_fn_eval = estimator.inputs.numpy_input_fn( x = {'x':X_test},\n",
    "                                                y =  y_test,\n",
    "                                                shuffle = False)\n",
    "\n",
    "preds=list(deep_model.evaluate(input_fn=input_fn_eval))\n",
    "\n",
    "predictions = [p['class_ids'][0] for p in preds]\n",
    "#predictions\n",
    "\n",
    "pred = np.asarray(predictions)\n",
    "\n",
    "f = pred == y_test\n",
    "print(len(f))\n",
    "\n",
    "T = len(f[f == True])\n",
    "F = len(f[f == False])\n",
    "print(T, F, T+F)\n",
    "error = F/(T+F) * 100\n",
    "print(error)\n",
    "\n",
    "plt.scatter(range(len(y_test)),y_test,label=\"Original Rating\")\n",
    "\n",
    "#plt.legend(loc='best')\n",
    "plt.show()"
   ]
  },
  {
   "cell_type": "code",
   "execution_count": null,
   "metadata": {},
   "outputs": [],
   "source": []
  },
  {
   "cell_type": "code",
   "execution_count": null,
   "metadata": {},
   "outputs": [],
   "source": []
  },
  {
   "cell_type": "code",
   "execution_count": null,
   "metadata": {},
   "outputs": [],
   "source": []
  },
  {
   "cell_type": "code",
   "execution_count": null,
   "metadata": {},
   "outputs": [],
   "source": []
  },
  {
   "cell_type": "code",
   "execution_count": null,
   "metadata": {},
   "outputs": [],
   "source": []
  },
  {
   "cell_type": "code",
   "execution_count": 37,
   "metadata": {},
   "outputs": [
    {
     "name": "stdout",
     "output_type": "stream",
     "text": [
      "INFO:tensorflow:Calling model_fn.\n",
      "WARNING:tensorflow:Trapezoidal rule is known to produce incorrect PR-AUCs; please switch to \"careful_interpolation\" instead.\n",
      "WARNING:tensorflow:Trapezoidal rule is known to produce incorrect PR-AUCs; please switch to \"careful_interpolation\" instead.\n",
      "INFO:tensorflow:Done calling model_fn.\n",
      "INFO:tensorflow:Starting evaluation at 2018-07-06-08:10:16\n",
      "INFO:tensorflow:Graph was finalized.\n",
      "INFO:tensorflow:Restoring parameters from ./model/model.ckpt-5000\n",
      "INFO:tensorflow:Running local_init_op.\n",
      "INFO:tensorflow:Done running local_init_op.\n",
      "INFO:tensorflow:Finished evaluation at 2018-07-06-08:10:17\n",
      "INFO:tensorflow:Saving dict for global step 5000: accuracy = 0.9541985, accuracy_baseline = 0.5398037, auc = 0.99476165, auc_precision_recall = 0.9955543, average_loss = 0.115033865, global_step = 5000, label/mean = 0.5398037, loss = 14.064807, precision = 0.92655367, prediction/mean = 0.54464954, recall = 0.9939394\n"
     ]
    }
   ],
   "source": []
  },
  {
   "cell_type": "code",
   "execution_count": 21,
   "metadata": {},
   "outputs": [],
   "source": [
    "predictions = [p['class_ids'][0] for p in preds]\n",
    "#predictions"
   ]
  },
  {
   "cell_type": "code",
   "execution_count": 22,
   "metadata": {},
   "outputs": [],
   "source": [
    "pred = np.asarray(predictions)"
   ]
  },
  {
   "cell_type": "code",
   "execution_count": 23,
   "metadata": {},
   "outputs": [
    {
     "name": "stdout",
     "output_type": "stream",
     "text": [
      "1152\n"
     ]
    }
   ],
   "source": [
    "f = pred == y_test\n",
    "print(len(f))"
   ]
  },
  {
   "cell_type": "code",
   "execution_count": 24,
   "metadata": {},
   "outputs": [
    {
     "name": "stdout",
     "output_type": "stream",
     "text": [
      "1009 143 1152\n",
      "12.413194444444445\n"
     ]
    }
   ],
   "source": [
    "T = len(f[f == True])\n",
    "F = len(f[f == False])\n",
    "print(T, F, T+F)\n",
    "error = F/(T+F) * 100\n",
    "print(error)"
   ]
  },
  {
   "cell_type": "code",
   "execution_count": 25,
   "metadata": {},
   "outputs": [
    {
     "data": {
      "image/png": "[encoded data removed]",
      "text/plain": [
       "<Figure size 432x288 with 1 Axes>"
      ]
     },
     "metadata": {},
     "output_type": "display_data"
    }
   ],
   "source": [
    "plt.scatter(range(len(y_test)),y_test,label=\"Original Rating\")\n",
    "\n",
    "#plt.legend(loc='best')\n",
    "plt.show()"
   ]
  },
  {
   "cell_type": "code",
   "execution_count": 51,
   "metadata": {},
   "outputs": [
    {
     "data": {
      "text/plain": [
       "(-1, 2)"
      ]
     },
     "execution_count": 51,
     "metadata": {},
     "output_type": "execute_result"
    },
    {
     "data": {
      "image/png": "[encoded data removed]",
      "text/plain": [
       "<Figure size 432x288 with 1 Axes>"
      ]
     },
     "metadata": {},
     "output_type": "display_data"
    }
   ],
   "source": [
    "plt.scatter(range(len(pred)),pred,label=\"Predicted Rating\", )\n",
    "plt.ylim(-1,2)"
   ]
  },
  {
   "cell_type": "code",
   "execution_count": null,
   "metadata": {},
   "outputs": [],
   "source": []
  }
 ],
 "metadata": {
  "kernelspec": {
   "display_name": "Python 3",
   "language": "python",
   "name": "python3"
  },
  "language_info": {
   "codemirror_mode": {
    "name": "ipython",
    "version": 3
   },
   "file_extension": ".py",
   "mimetype": "text/x-python",
   "name": "python",
   "nbconvert_exporter": "python",
   "pygments_lexer": "ipython3",
   "version": "3.5.2"
  }
 },
 "nbformat": 4,
 "nbformat_minor": 2
}
