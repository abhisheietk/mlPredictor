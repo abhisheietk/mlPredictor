{
 "cells": [
  {
   "cell_type": "code",
   "execution_count": 8,
   "metadata": {},
   "outputs": [],
   "source": [
    "%matplotlib inline\n",
    "from mpl_toolkits.mplot3d import Axes3D\n",
    "import matplotlib\n",
    "import matplotlib.pyplot as plt\n",
    "import pandas as pd\n",
    "import numpy as np\n",
    "from datetime import datetime, timedelta\n",
    "from ipywidgets import interactive\n",
    "from IPython.display import Audio, display\n",
    "import os\n",
    "from ipynb.fs.full.dateSelector import year, month, day, distance, site, getDateTime\n",
    "from ipynb.fs.full.gaussianModel import gaussian, gaussiany, getEventFrame\n",
    "from ipynb.fs.full.siteData import sites, getSiteData\n",
    "from random import randrange\n",
    "from __future__ import print_function\n",
    "from ipyleaflet import (Map, Marker, MarkerCluster, TileLayer, ImageOverlay,\n",
    "                        Polyline, Polygon, Rectangle, Circle, CircleMarker,\n",
    "                        GeoJSON, DrawControl, basemaps)\n",
    "\n",
    "matplotlib.rcParams['figure.figsize'] = [20.0, 12.0]\n",
    "\n",
    "def normalise(df):\n",
    "    return (df - df.mean()) / (df.max() - df.min())\n",
    "\n",
    "def toDateTime(timeString):\n",
    "    return datetime.strptime(timeString, '%d/%m/%Y %H:%M:%S').timestamp()\n",
    "\n",
    "df = pd.read_csv('data/events.csv')\n",
    "df['datetime'] = df['DateTime(IST)'].apply(lambda x: toDateTime(x))\n",
    "df1 = df[['datetime', 'DateTime(IST)', 'Latitude', 'Longitude', 'Magnitude']]"
   ]
  },
  {
   "cell_type": "code",
   "execution_count": 9,
   "metadata": {},
   "outputs": [
    {
     "name": "stdout",
     "output_type": "stream",
     "text": [
      "279.35290160386563\n"
     ]
    }
   ],
   "source": [
    "import geopy.distance\n",
    "\n",
    "coords_1 = (52.2296756, 21.0122287)\n",
    "coords_2 = (52.406374, 16.9251681)\n",
    "\n",
    "print(geopy.distance.vincenty(coords_1, coords_2).km)\n"
   ]
  },
  {
   "cell_type": "code",
   "execution_count": 10,
   "metadata": {},
   "outputs": [
    {
     "data": {
      "application/vnd.jupyter.widget-view+json": {
       "model_id": "9baa47e45ec04305a4660cfeb3d57a00",
       "version_major": 2,
       "version_minor": 0
      },
      "text/plain": [
       "Map(basemap={'max_zoom': 19, 'url': 'https://{s}.tile.openstreetmap.org/{z}/{x}/{y}.png', 'attribution': 'Map …"
      ]
     },
     "metadata": {},
     "output_type": "display_data"
    },
    {
     "data": {
      "application/vnd.jupyter.widget-view+json": {
       "model_id": "bba2c1391ec94da2b739c6d18387f3f7",
       "version_major": 2,
       "version_minor": 0
      },
      "text/plain": [
       "interactive(children=(Dropdown(description='Year:', index=2, options=(2016, 2017, 2018, 2019, 2020, 2014, 2015…"
      ]
     },
     "metadata": {},
     "output_type": "display_data"
    }
   ],
   "source": [
    "from ipynb.fs.full.dateSelector import year, month, day, getDateTime\n",
    "\n",
    "matplotlib.rcParams['figure.figsize'] = [20.0, 12.0]\n",
    "class event:\n",
    "    def __init__(self):\n",
    "        center = [19, 72]\n",
    "        zoom = 3\n",
    "        self.m = Map(center=center, zoom=zoom)\n",
    "        display(self.m)\n",
    "        \n",
    "        self.circles = [Circle(location=center, radius=1000)]\n",
    "        for circle in self.circles:\n",
    "            self.m.add_layer(circle)\n",
    "\n",
    "    def update(self, year, month, day, distance, site):\n",
    "        start, stop = getDateTime(year, month, day, distance, site)\n",
    "        for i in sites:\n",
    "            if i['site'] == site:\n",
    "                siteLat = i['lat']\n",
    "                siteLng = i['lng']\n",
    "                siteSrNo = i['srNo']\n",
    "                break\n",
    "        \n",
    "        #self.m.remove_layer(self.marker_cluster)\n",
    "        for circle in self.circles:\n",
    "            self.m.remove_layer(circle)\n",
    "        startYear = datetime(year=start.year, month=1, day=1)\n",
    "        stopYear = startYear + timedelta(days = 365)\n",
    "        numEventsThisYear = len(df1.loc[(df1['datetime'] >= startYear.timestamp())\n",
    "                                        & (df1['datetime'] <= stopYear.timestamp())])\n",
    "        print('events in year {0} : {1}'.format(start.year, numEventsThisYear))\n",
    "        startMonth = datetime(year=start.year, month=start.month, day=1)\n",
    "        stopMonth = startMonth + timedelta(days = 30)\n",
    "        numEventsThisMonth = len(df1.loc[(df1['datetime'] >= startMonth.timestamp())\n",
    "                                        & (df1['datetime'] <= stopMonth.timestamp())])\n",
    "        print('events in month {0} : {1}'.format(start.month, numEventsThisMonth))\n",
    "        df2 = df1.loc[(df1['datetime'] >= start.timestamp()) &\n",
    "                      (df1['datetime'] <= stop.timestamp())]\n",
    "        locations = [[df2.iloc[row]['Latitude'], df2.iloc[row]['Longitude']]\n",
    "                     for row in range(len(df2))]\n",
    "        magnitudes = [df2.iloc[row]['Magnitude'] for row in range(len(df2))]\n",
    "        \n",
    "        print('events in duration: {0}'.format(len(df2)))\n",
    "        self.circles = [Circle(location=location, radius=int(magnitude*10000)) \n",
    "                        for location, magnitude  in zip(locations, magnitudes)]\n",
    "        for circle in self.circles:\n",
    "            self.m.add_layer(circle)\n",
    "        dfList = []\n",
    "        for index, row in df2.iterrows():\n",
    "            eventDistance = geopy.distance.vincenty((row['Latitude'], row['Longitude']),\n",
    "                                                    (siteLat, siteLng)).km\n",
    "            if eventDistance > distance[0] and eventDistance < distance[1]:\n",
    "                label = '{0}:{1}'.format(randrange(255), eventDistance)\n",
    "                dfList.append(getEventFrame(row['datetime'], row['Magnitude'], label = label))\n",
    "        if len(dfList):\n",
    "            df2 = pd.concat(dfList) \n",
    "            dfSite = pd.concat([getSiteData(start.timestamp(),\n",
    "                                            stop.timestamp(), siteList=[siteSrNo]), df2])\n",
    "            df3 = dfSite.sort_values('datetime', ascending=True)\n",
    "            df4 = df3.interpolate()\n",
    "            \n",
    "            df4.plot(x = 'datetime') \n",
    "        \n",
    "        \n",
    "    \n",
    "evnt = event()\n",
    "\n",
    "w = interactive(evnt.update, year=year, month=month, day=day, distance=distance, site=site)\n",
    "display(w)"
   ]
  },
  {
   "cell_type": "code",
   "execution_count": null,
   "metadata": {},
   "outputs": [],
   "source": []
  },
  {
   "cell_type": "code",
   "execution_count": null,
   "metadata": {},
   "outputs": [],
   "source": []
  }
 ],
 "metadata": {
  "kernelspec": {
   "display_name": "Python 3",
   "language": "python",
   "name": "python3"
  },
  "language_info": {
   "codemirror_mode": {
    "name": "ipython",
    "version": 3
   },
   "file_extension": ".py",
   "mimetype": "text/x-python",
   "name": "python",
   "nbconvert_exporter": "python",
   "pygments_lexer": "ipython3",
   "version": "3.5.2"
  }
 },
 "nbformat": 4,
 "nbformat_minor": 2
}
